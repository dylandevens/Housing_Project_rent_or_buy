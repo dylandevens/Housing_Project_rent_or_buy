{
 "cells": [
  {
   "cell_type": "code",
   "execution_count": 1,
   "metadata": {},
   "outputs": [],
   "source": [
    "import pandas as pd\n",
    "import datetime\n",
    "import csv\n",
    "import pprint as pprint\n",
    "import matplotlib.pyplot as plt\n",
    "import scipy.stats as st\n",
    "import numpy as np\n",
    "#import sklearn.datasets as dta\n",
    "#from scipy.stats import linregress\n",
    "#from scipy.stats import sem\n",
    "import json\n",
    "import requests\n",
    "import os\n",
    "from dotenv import load_dotenv\n",
    "import gzip\n",
    "# Load .env enviroment variables into the notebook\n",
    "load_dotenv()\n",
    "# Get the API key from the environment variable and store as Python variable\n",
    "census_key = os.getenv(\"census_api_key\")"
   ]
  },
  {
   "cell_type": "code",
   "execution_count": null,
   "metadata": {},
   "outputs": [],
   "source": [
    "#DF List so far\n"
   ]
  },
  {
   "cell_type": "code",
   "execution_count": null,
   "metadata": {},
   "outputs": [],
   "source": [
    "# average_median_sale_price_by_quarter.csv\n",
    "# housing_availability_by_zip_and_property_type.csv\n",
    "# monthly_housingsale_available_inventory.csv\n",
    "# quarterly_housingsale_available_inventory.csv\n",
    "# rentals_by_quarters.csv\n",
    "# seattle_rentals_by_zipcodes.csv\n",
    "# total_housing_availability_by_month.csv\n",
    "# yearly_housingsale_available_inventory.csv"
   ]
  },
  {
   "cell_type": "code",
   "execution_count": null,
   "metadata": {},
   "outputs": [],
   "source": [
    "# graph and regression outline\n",
    "\n",
    "\n",
    "# x_values = northern_hemi_df['Lat']\n",
    "# y_values = northern_hemi_df['Max Temp (C)']\n",
    "# (slope, intercept, rvalue, pvalue, stderr) = stats.linregress(x_values, y_values)\n",
    "# regress_values = x_values * slope + intercept\n",
    "\n",
    "# # Build scatter plot for latitude vs. temperature\n",
    "# plt.figure(figsize=(12,10))\n",
    "# plt.scatter(x_values, y_values, c=y_values, alpha = .5)\n",
    "\n",
    "# # Incorporate the other graph properties2\n",
    "# plt.title(\"Latitude vs Max Temps for Cities in the N. Hemisphere (2024-01-05)\")\n",
    "# plt.xlabel('Latitude')\n",
    "# plt.ylabel('Max Temp (C)')\n",
    "# plt.grid(True)\n",
    "# plt.colorbar(label = \"Temp\")\n",
    "# plt.annotate(line_eq, (20,5),fontsize=15,color=\"red\")\n",
    "# plt.plot(x_values, regress_values, \"r-\", label=line_eq)\n",
    "# # Show plot\n",
    "# plt.show()\n",
    "\n",
    "\n",
    "\n",
    "\n",
    "# # Get regression values\n",
    "\n",
    "# line_eq = \"y = \" + str(round(slope,2)) + \"x +\" + str(round(intercept,2))\n",
    "# print(line_eq)\n",
    "\n",
    "# # Save the figure\n",
    "# plt.savefig(\"../figures/fig_year_by_inventory.png\")"
   ]
  },
  {
   "cell_type": "code",
   "execution_count": 2,
   "metadata": {},
   "outputs": [
    {
     "data": {
      "text/html": [
       "<div>\n",
       "<style scoped>\n",
       "    .dataframe tbody tr th:only-of-type {\n",
       "        vertical-align: middle;\n",
       "    }\n",
       "\n",
       "    .dataframe tbody tr th {\n",
       "        vertical-align: top;\n",
       "    }\n",
       "\n",
       "    .dataframe thead th {\n",
       "        text-align: right;\n",
       "    }\n",
       "</style>\n",
       "<table border=\"1\" class=\"dataframe\">\n",
       "  <thead>\n",
       "    <tr style=\"text-align: right;\">\n",
       "      <th></th>\n",
       "      <th>Unnamed: 0</th>\n",
       "      <th>Zipcode</th>\n",
       "      <th>period_end</th>\n",
       "      <th>inventory</th>\n",
       "    </tr>\n",
       "  </thead>\n",
       "  <tbody>\n",
       "    <tr>\n",
       "      <th>0</th>\n",
       "      <td>6</td>\n",
       "      <td>98101</td>\n",
       "      <td>2018-12-31</td>\n",
       "      <td>47.500000</td>\n",
       "    </tr>\n",
       "    <tr>\n",
       "      <th>1</th>\n",
       "      <td>7</td>\n",
       "      <td>98101</td>\n",
       "      <td>2019-12-31</td>\n",
       "      <td>56.250000</td>\n",
       "    </tr>\n",
       "    <tr>\n",
       "      <th>2</th>\n",
       "      <td>8</td>\n",
       "      <td>98101</td>\n",
       "      <td>2020-12-31</td>\n",
       "      <td>82.000000</td>\n",
       "    </tr>\n",
       "    <tr>\n",
       "      <th>3</th>\n",
       "      <td>9</td>\n",
       "      <td>98101</td>\n",
       "      <td>2021-12-31</td>\n",
       "      <td>59.833333</td>\n",
       "    </tr>\n",
       "    <tr>\n",
       "      <th>4</th>\n",
       "      <td>10</td>\n",
       "      <td>98101</td>\n",
       "      <td>2022-12-31</td>\n",
       "      <td>57.250000</td>\n",
       "    </tr>\n",
       "  </tbody>\n",
       "</table>\n",
       "</div>"
      ],
      "text/plain": [
       "   Unnamed: 0  Zipcode  period_end  inventory\n",
       "0           6    98101  2018-12-31  47.500000\n",
       "1           7    98101  2019-12-31  56.250000\n",
       "2           8    98101  2020-12-31  82.000000\n",
       "3           9    98101  2021-12-31  59.833333\n",
       "4          10    98101  2022-12-31  57.250000"
      ]
     },
     "execution_count": 2,
     "metadata": {},
     "output_type": "execute_result"
    }
   ],
   "source": [
    "# handling the year inventory csv\n",
    "filepath_inventory = \"../data_frames/yearly_housingsale_available_inventory.csv\"\n",
    "yearly_inventory = pd.read_csv(filepath_inventory)\n",
    "yearly_inventory.head()"
   ]
  },
  {
   "cell_type": "code",
   "execution_count": 3,
   "metadata": {},
   "outputs": [
    {
     "data": {
      "text/html": [
       "<div>\n",
       "<style scoped>\n",
       "    .dataframe tbody tr th:only-of-type {\n",
       "        vertical-align: middle;\n",
       "    }\n",
       "\n",
       "    .dataframe tbody tr th {\n",
       "        vertical-align: top;\n",
       "    }\n",
       "\n",
       "    .dataframe thead th {\n",
       "        text-align: right;\n",
       "    }\n",
       "</style>\n",
       "<table border=\"1\" class=\"dataframe\">\n",
       "  <thead>\n",
       "    <tr style=\"text-align: right;\">\n",
       "      <th></th>\n",
       "      <th>Zipcode</th>\n",
       "      <th>period_end</th>\n",
       "      <th>inventory</th>\n",
       "    </tr>\n",
       "  </thead>\n",
       "  <tbody>\n",
       "    <tr>\n",
       "      <th>0</th>\n",
       "      <td>98101</td>\n",
       "      <td>2018-12-31</td>\n",
       "      <td>47.500000</td>\n",
       "    </tr>\n",
       "    <tr>\n",
       "      <th>1</th>\n",
       "      <td>98101</td>\n",
       "      <td>2019-12-31</td>\n",
       "      <td>56.250000</td>\n",
       "    </tr>\n",
       "    <tr>\n",
       "      <th>2</th>\n",
       "      <td>98101</td>\n",
       "      <td>2020-12-31</td>\n",
       "      <td>82.000000</td>\n",
       "    </tr>\n",
       "    <tr>\n",
       "      <th>3</th>\n",
       "      <td>98101</td>\n",
       "      <td>2021-12-31</td>\n",
       "      <td>59.833333</td>\n",
       "    </tr>\n",
       "    <tr>\n",
       "      <th>4</th>\n",
       "      <td>98101</td>\n",
       "      <td>2022-12-31</td>\n",
       "      <td>57.250000</td>\n",
       "    </tr>\n",
       "    <tr>\n",
       "      <th>...</th>\n",
       "      <td>...</td>\n",
       "      <td>...</td>\n",
       "      <td>...</td>\n",
       "    </tr>\n",
       "    <tr>\n",
       "      <th>149</th>\n",
       "      <td>98199</td>\n",
       "      <td>2018-12-31</td>\n",
       "      <td>47.583333</td>\n",
       "    </tr>\n",
       "    <tr>\n",
       "      <th>150</th>\n",
       "      <td>98199</td>\n",
       "      <td>2019-12-31</td>\n",
       "      <td>59.916667</td>\n",
       "    </tr>\n",
       "    <tr>\n",
       "      <th>151</th>\n",
       "      <td>98199</td>\n",
       "      <td>2020-12-31</td>\n",
       "      <td>48.083333</td>\n",
       "    </tr>\n",
       "    <tr>\n",
       "      <th>152</th>\n",
       "      <td>98199</td>\n",
       "      <td>2021-12-31</td>\n",
       "      <td>33.250000</td>\n",
       "    </tr>\n",
       "    <tr>\n",
       "      <th>153</th>\n",
       "      <td>98199</td>\n",
       "      <td>2022-12-31</td>\n",
       "      <td>41.916667</td>\n",
       "    </tr>\n",
       "  </tbody>\n",
       "</table>\n",
       "<p>154 rows × 3 columns</p>\n",
       "</div>"
      ],
      "text/plain": [
       "     Zipcode period_end  inventory\n",
       "0      98101 2018-12-31  47.500000\n",
       "1      98101 2019-12-31  56.250000\n",
       "2      98101 2020-12-31  82.000000\n",
       "3      98101 2021-12-31  59.833333\n",
       "4      98101 2022-12-31  57.250000\n",
       "..       ...        ...        ...\n",
       "149    98199 2018-12-31  47.583333\n",
       "150    98199 2019-12-31  59.916667\n",
       "151    98199 2020-12-31  48.083333\n",
       "152    98199 2021-12-31  33.250000\n",
       "153    98199 2022-12-31  41.916667\n",
       "\n",
       "[154 rows x 3 columns]"
      ]
     },
     "execution_count": 3,
     "metadata": {},
     "output_type": "execute_result"
    }
   ],
   "source": [
    "yearly_inventory = yearly_inventory.drop(columns=['Unnamed: 0'])\n",
    "yearly_inventory['period_end'] = pd.to_datetime(yearly_inventory['period_end'])\n",
    "yearly_inventory"
   ]
  },
  {
   "cell_type": "code",
   "execution_count": 4,
   "metadata": {},
   "outputs": [
    {
     "data": {
      "text/plain": [
       "Zipcode                int64\n",
       "period_end    datetime64[ns]\n",
       "inventory            float64\n",
       "dtype: object"
      ]
     },
     "execution_count": 4,
     "metadata": {},
     "output_type": "execute_result"
    }
   ],
   "source": [
    "yearly_inventory.dtypes"
   ]
  },
  {
   "cell_type": "code",
   "execution_count": 5,
   "metadata": {},
   "outputs": [],
   "source": [
    "yearly_inventory['year'] = yearly_inventory['period_end'].dt.year"
   ]
  },
  {
   "cell_type": "code",
   "execution_count": 6,
   "metadata": {},
   "outputs": [
    {
     "data": {
      "text/plain": [
       "year\n",
       "2018    45.934524\n",
       "2019    61.747024\n",
       "2020    58.538462\n",
       "2021    38.474399\n",
       "2022    43.374691\n",
       "Name: inventory, dtype: float64"
      ]
     },
     "execution_count": 6,
     "metadata": {},
     "output_type": "execute_result"
    }
   ],
   "source": [
    "average_inventory_by_year = yearly_inventory.groupby('year')['inventory'].mean()\n",
    "average_inventory_by_year"
   ]
  },
  {
   "cell_type": "code",
   "execution_count": 7,
   "metadata": {},
   "outputs": [
    {
     "data": {
      "text/html": [
       "<div>\n",
       "<style scoped>\n",
       "    .dataframe tbody tr th:only-of-type {\n",
       "        vertical-align: middle;\n",
       "    }\n",
       "\n",
       "    .dataframe tbody tr th {\n",
       "        vertical-align: top;\n",
       "    }\n",
       "\n",
       "    .dataframe thead th {\n",
       "        text-align: right;\n",
       "    }\n",
       "</style>\n",
       "<table border=\"1\" class=\"dataframe\">\n",
       "  <thead>\n",
       "    <tr style=\"text-align: right;\">\n",
       "      <th></th>\n",
       "      <th>inventory</th>\n",
       "    </tr>\n",
       "    <tr>\n",
       "      <th>year</th>\n",
       "      <th></th>\n",
       "    </tr>\n",
       "  </thead>\n",
       "  <tbody>\n",
       "    <tr>\n",
       "      <th>2018</th>\n",
       "      <td>45.934524</td>\n",
       "    </tr>\n",
       "    <tr>\n",
       "      <th>2019</th>\n",
       "      <td>61.747024</td>\n",
       "    </tr>\n",
       "    <tr>\n",
       "      <th>2020</th>\n",
       "      <td>58.538462</td>\n",
       "    </tr>\n",
       "    <tr>\n",
       "      <th>2021</th>\n",
       "      <td>38.474399</td>\n",
       "    </tr>\n",
       "    <tr>\n",
       "      <th>2022</th>\n",
       "      <td>43.374691</td>\n",
       "    </tr>\n",
       "  </tbody>\n",
       "</table>\n",
       "</div>"
      ],
      "text/plain": [
       "      inventory\n",
       "year           \n",
       "2018  45.934524\n",
       "2019  61.747024\n",
       "2020  58.538462\n",
       "2021  38.474399\n",
       "2022  43.374691"
      ]
     },
     "execution_count": 7,
     "metadata": {},
     "output_type": "execute_result"
    }
   ],
   "source": [
    "average_inventory_by_year = pd.DataFrame(average_inventory_by_year)\n",
    "average_inventory_by_year"
   ]
  },
  {
   "cell_type": "code",
   "execution_count": 8,
   "metadata": {},
   "outputs": [
    {
     "data": {
      "image/png": "[encoded data removed]",
      "text/plain": [
       "<Figure size 900x600 with 1 Axes>"
      ]
     },
     "metadata": {},
     "output_type": "display_data"
    },
    {
     "name": "stdout",
     "output_type": "stream",
     "text": [
      "y = -2.84x +5784.86\n"
     ]
    }
   ],
   "source": [
    "x_values = average_inventory_by_year.index\n",
    "y_values = average_inventory_by_year['inventory']\n",
    "\n",
    "\n",
    "# Get regression values\n",
    "(slope, intercept, rvalue, pvalue, stderr) = st.linregress(x_values, y_values)\n",
    "regress_values = x_values * slope + intercept\n",
    "line_eq = \"y = \" + str(round(slope,2)) + \"x +\" + str(round(intercept,2))\n",
    "\n",
    "\n",
    "# Build scatter plot for year vs inventory\n",
    "plt.figure(figsize=(9,6))\n",
    "plt.scatter(x_values, y_values, c=\"blue\", alpha = .5)\n",
    "\n",
    "\n",
    "# Incorporate the other graph properties2\n",
    "plt.title(\"Average Inventory of Houses For-Sale 2018-2022\")\n",
    "plt.xlabel('Year')\n",
    "plt.ylabel('Average Number of Houses For-Sale')\n",
    "plt.grid(True)\n",
    "# plt.colorbar(label = \"Inventory\")\n",
    "plt.annotate(line_eq, (2019,45),fontsize=15,color=\"red\")\n",
    "plt.xlim(2017, 2023)\n",
    "plt.ylim(35, 65) \n",
    "\n",
    "plt.plot(x_values, regress_values, \"r-\", label=line_eq)\n",
    "  \n",
    "# Show plot\n",
    "plt.show()\n",
    "\n",
    "\n",
    "\n",
    "\n",
    "print(line_eq)"
   ]
  },
  {
   "cell_type": "code",
   "execution_count": 9,
   "metadata": {},
   "outputs": [
    {
     "data": {
      "text/plain": [
       "<Figure size 640x480 with 0 Axes>"
      ]
     },
     "metadata": {},
     "output_type": "display_data"
    }
   ],
   "source": [
    "# Save the figure\n",
    "plt.savefig(\"../figures/fig_year_by_inventory.png\")"
   ]
  },
  {
   "cell_type": "code",
   "execution_count": null,
   "metadata": {},
   "outputs": [],
   "source": []
  },
  {
   "cell_type": "code",
   "execution_count": null,
   "metadata": {},
   "outputs": [],
   "source": []
  },
  {
   "cell_type": "code",
   "execution_count": null,
   "metadata": {},
   "outputs": [],
   "source": []
  },
  {
   "cell_type": "code",
   "execution_count": null,
   "metadata": {},
   "outputs": [],
   "source": []
  },
  {
   "cell_type": "code",
   "execution_count": null,
   "metadata": {},
   "outputs": [],
   "source": []
  },
  {
   "cell_type": "code",
   "execution_count": null,
   "metadata": {},
   "outputs": [],
   "source": [
    "#FOR ALL YEARS"
   ]
  },
  {
   "cell_type": "code",
   "execution_count": null,
   "metadata": {},
   "outputs": [],
   "source": [
    "# #Save yearly_inventory for all types of sales for the time frame based on zipcode - ready to graph and analyze\n",
    "# yearly_inventory.to_csv(\"../data_frames/ALLYEARS_housingsale_available_inventory.csv\", index=True)"
   ]
  },
  {
   "cell_type": "code",
   "execution_count": 11,
   "metadata": {},
   "outputs": [],
   "source": [
    "# handling the ALLYEARS\n",
    "filepath_inventoryALL = \"../data_frames/ALLYEARS_housingsale_available_inventory.csv\"\n",
    "yearly_inventoryALL = pd.read_csv(filepath_inventoryALL)"
   ]
  },
  {
   "cell_type": "code",
   "execution_count": 16,
   "metadata": {
    "scrolled": true
   },
   "outputs": [
    {
     "data": {
      "text/html": [
       "<div>\n",
       "<style scoped>\n",
       "    .dataframe tbody tr th:only-of-type {\n",
       "        vertical-align: middle;\n",
       "    }\n",
       "\n",
       "    .dataframe tbody tr th {\n",
       "        vertical-align: top;\n",
       "    }\n",
       "\n",
       "    .dataframe thead th {\n",
       "        text-align: right;\n",
       "    }\n",
       "</style>\n",
       "<table border=\"1\" class=\"dataframe\">\n",
       "  <thead>\n",
       "    <tr style=\"text-align: right;\">\n",
       "      <th></th>\n",
       "      <th>Unnamed: 0</th>\n",
       "      <th>Zipcode</th>\n",
       "      <th>period_end</th>\n",
       "      <th>inventory</th>\n",
       "    </tr>\n",
       "  </thead>\n",
       "  <tbody>\n",
       "    <tr>\n",
       "      <th>0</th>\n",
       "      <td>0</td>\n",
       "      <td>98101</td>\n",
       "      <td>2012-12-31</td>\n",
       "      <td>53.400000</td>\n",
       "    </tr>\n",
       "    <tr>\n",
       "      <th>1</th>\n",
       "      <td>1</td>\n",
       "      <td>98101</td>\n",
       "      <td>2013-12-31</td>\n",
       "      <td>38.500000</td>\n",
       "    </tr>\n",
       "    <tr>\n",
       "      <th>2</th>\n",
       "      <td>2</td>\n",
       "      <td>98101</td>\n",
       "      <td>2014-12-31</td>\n",
       "      <td>26.666667</td>\n",
       "    </tr>\n",
       "    <tr>\n",
       "      <th>3</th>\n",
       "      <td>3</td>\n",
       "      <td>98101</td>\n",
       "      <td>2015-12-31</td>\n",
       "      <td>43.833333</td>\n",
       "    </tr>\n",
       "    <tr>\n",
       "      <th>4</th>\n",
       "      <td>4</td>\n",
       "      <td>98101</td>\n",
       "      <td>2016-12-31</td>\n",
       "      <td>33.916667</td>\n",
       "    </tr>\n",
       "    <tr>\n",
       "      <th>...</th>\n",
       "      <td>...</td>\n",
       "      <td>...</td>\n",
       "      <td>...</td>\n",
       "      <td>...</td>\n",
       "    </tr>\n",
       "    <tr>\n",
       "      <th>386</th>\n",
       "      <td>386</td>\n",
       "      <td>98199</td>\n",
       "      <td>2020-12-31</td>\n",
       "      <td>48.083333</td>\n",
       "    </tr>\n",
       "    <tr>\n",
       "      <th>387</th>\n",
       "      <td>387</td>\n",
       "      <td>98199</td>\n",
       "      <td>2021-12-31</td>\n",
       "      <td>33.250000</td>\n",
       "    </tr>\n",
       "    <tr>\n",
       "      <th>388</th>\n",
       "      <td>388</td>\n",
       "      <td>98199</td>\n",
       "      <td>2022-12-31</td>\n",
       "      <td>41.916667</td>\n",
       "    </tr>\n",
       "    <tr>\n",
       "      <th>389</th>\n",
       "      <td>389</td>\n",
       "      <td>98199</td>\n",
       "      <td>2023-12-31</td>\n",
       "      <td>37.250000</td>\n",
       "    </tr>\n",
       "    <tr>\n",
       "      <th>390</th>\n",
       "      <td>390</td>\n",
       "      <td>98199</td>\n",
       "      <td>2024-12-31</td>\n",
       "      <td>21.500000</td>\n",
       "    </tr>\n",
       "  </tbody>\n",
       "</table>\n",
       "<p>391 rows × 4 columns</p>\n",
       "</div>"
      ],
      "text/plain": [
       "     Unnamed: 0  Zipcode  period_end  inventory\n",
       "0             0    98101  2012-12-31  53.400000\n",
       "1             1    98101  2013-12-31  38.500000\n",
       "2             2    98101  2014-12-31  26.666667\n",
       "3             3    98101  2015-12-31  43.833333\n",
       "4             4    98101  2016-12-31  33.916667\n",
       "..          ...      ...         ...        ...\n",
       "386         386    98199  2020-12-31  48.083333\n",
       "387         387    98199  2021-12-31  33.250000\n",
       "388         388    98199  2022-12-31  41.916667\n",
       "389         389    98199  2023-12-31  37.250000\n",
       "390         390    98199  2024-12-31  21.500000\n",
       "\n",
       "[391 rows x 4 columns]"
      ]
     },
     "execution_count": 16,
     "metadata": {},
     "output_type": "execute_result"
    }
   ],
   "source": [
    "yearly_inventoryALL\n",
    "# yearly_inventoryALL['period_end'].unique()"
   ]
  },
  {
   "cell_type": "code",
   "execution_count": 18,
   "metadata": {},
   "outputs": [
    {
     "data": {
      "text/html": [
       "<div>\n",
       "<style scoped>\n",
       "    .dataframe tbody tr th:only-of-type {\n",
       "        vertical-align: middle;\n",
       "    }\n",
       "\n",
       "    .dataframe tbody tr th {\n",
       "        vertical-align: top;\n",
       "    }\n",
       "\n",
       "    .dataframe thead th {\n",
       "        text-align: right;\n",
       "    }\n",
       "</style>\n",
       "<table border=\"1\" class=\"dataframe\">\n",
       "  <thead>\n",
       "    <tr style=\"text-align: right;\">\n",
       "      <th></th>\n",
       "      <th>Zipcode</th>\n",
       "      <th>period_end</th>\n",
       "      <th>inventory</th>\n",
       "    </tr>\n",
       "  </thead>\n",
       "  <tbody>\n",
       "    <tr>\n",
       "      <th>0</th>\n",
       "      <td>98101</td>\n",
       "      <td>2012-12-31</td>\n",
       "      <td>53.400000</td>\n",
       "    </tr>\n",
       "    <tr>\n",
       "      <th>1</th>\n",
       "      <td>98101</td>\n",
       "      <td>2013-12-31</td>\n",
       "      <td>38.500000</td>\n",
       "    </tr>\n",
       "    <tr>\n",
       "      <th>2</th>\n",
       "      <td>98101</td>\n",
       "      <td>2014-12-31</td>\n",
       "      <td>26.666667</td>\n",
       "    </tr>\n",
       "    <tr>\n",
       "      <th>3</th>\n",
       "      <td>98101</td>\n",
       "      <td>2015-12-31</td>\n",
       "      <td>43.833333</td>\n",
       "    </tr>\n",
       "    <tr>\n",
       "      <th>4</th>\n",
       "      <td>98101</td>\n",
       "      <td>2016-12-31</td>\n",
       "      <td>33.916667</td>\n",
       "    </tr>\n",
       "    <tr>\n",
       "      <th>...</th>\n",
       "      <td>...</td>\n",
       "      <td>...</td>\n",
       "      <td>...</td>\n",
       "    </tr>\n",
       "    <tr>\n",
       "      <th>386</th>\n",
       "      <td>98199</td>\n",
       "      <td>2020-12-31</td>\n",
       "      <td>48.083333</td>\n",
       "    </tr>\n",
       "    <tr>\n",
       "      <th>387</th>\n",
       "      <td>98199</td>\n",
       "      <td>2021-12-31</td>\n",
       "      <td>33.250000</td>\n",
       "    </tr>\n",
       "    <tr>\n",
       "      <th>388</th>\n",
       "      <td>98199</td>\n",
       "      <td>2022-12-31</td>\n",
       "      <td>41.916667</td>\n",
       "    </tr>\n",
       "    <tr>\n",
       "      <th>389</th>\n",
       "      <td>98199</td>\n",
       "      <td>2023-12-31</td>\n",
       "      <td>37.250000</td>\n",
       "    </tr>\n",
       "    <tr>\n",
       "      <th>390</th>\n",
       "      <td>98199</td>\n",
       "      <td>2024-12-31</td>\n",
       "      <td>21.500000</td>\n",
       "    </tr>\n",
       "  </tbody>\n",
       "</table>\n",
       "<p>391 rows × 3 columns</p>\n",
       "</div>"
      ],
      "text/plain": [
       "     Zipcode period_end  inventory\n",
       "0      98101 2012-12-31  53.400000\n",
       "1      98101 2013-12-31  38.500000\n",
       "2      98101 2014-12-31  26.666667\n",
       "3      98101 2015-12-31  43.833333\n",
       "4      98101 2016-12-31  33.916667\n",
       "..       ...        ...        ...\n",
       "386    98199 2020-12-31  48.083333\n",
       "387    98199 2021-12-31  33.250000\n",
       "388    98199 2022-12-31  41.916667\n",
       "389    98199 2023-12-31  37.250000\n",
       "390    98199 2024-12-31  21.500000\n",
       "\n",
       "[391 rows x 3 columns]"
      ]
     },
     "execution_count": 18,
     "metadata": {},
     "output_type": "execute_result"
    }
   ],
   "source": [
    "yearly_inventoryALL = yearly_inventoryALL.drop(columns=['Unnamed: 0'])\n",
    "yearly_inventoryALL['period_end'] = pd.to_datetime(yearly_inventoryALL['period_end'])\n",
    "yearly_inventoryALL"
   ]
  },
  {
   "cell_type": "code",
   "execution_count": 19,
   "metadata": {},
   "outputs": [
    {
     "data": {
      "text/plain": [
       "Zipcode                int64\n",
       "period_end    datetime64[ns]\n",
       "inventory            float64\n",
       "dtype: object"
      ]
     },
     "execution_count": 19,
     "metadata": {},
     "output_type": "execute_result"
    }
   ],
   "source": [
    "yearly_inventoryALL.dtypes"
   ]
  },
  {
   "cell_type": "code",
   "execution_count": 20,
   "metadata": {},
   "outputs": [],
   "source": [
    "yearly_inventoryALL['year'] = yearly_inventoryALL['period_end'].dt.year"
   ]
  },
  {
   "cell_type": "code",
   "execution_count": 21,
   "metadata": {},
   "outputs": [
    {
     "data": {
      "text/plain": [
       "year\n",
       "2012    64.540476\n",
       "2013    58.487654\n",
       "2014    52.083333\n",
       "2015    37.212963\n",
       "2016    35.006173\n",
       "2017    27.547840\n",
       "2018    45.934524\n",
       "2019    61.747024\n",
       "2020    58.538462\n",
       "2021    38.474399\n",
       "2022    43.374691\n",
       "2023    43.179630\n",
       "2024    33.185185\n",
       "Name: inventory, dtype: float64"
      ]
     },
     "execution_count": 21,
     "metadata": {},
     "output_type": "execute_result"
    }
   ],
   "source": [
    "average_inventory_by_yearALL = yearly_inventoryALL.groupby('year')['inventory'].mean()\n",
    "average_inventory_by_yearALL"
   ]
  },
  {
   "cell_type": "code",
   "execution_count": 22,
   "metadata": {},
   "outputs": [
    {
     "data": {
      "text/html": [
       "<div>\n",
       "<style scoped>\n",
       "    .dataframe tbody tr th:only-of-type {\n",
       "        vertical-align: middle;\n",
       "    }\n",
       "\n",
       "    .dataframe tbody tr th {\n",
       "        vertical-align: top;\n",
       "    }\n",
       "\n",
       "    .dataframe thead th {\n",
       "        text-align: right;\n",
       "    }\n",
       "</style>\n",
       "<table border=\"1\" class=\"dataframe\">\n",
       "  <thead>\n",
       "    <tr style=\"text-align: right;\">\n",
       "      <th></th>\n",
       "      <th>inventory</th>\n",
       "    </tr>\n",
       "    <tr>\n",
       "      <th>year</th>\n",
       "      <th></th>\n",
       "    </tr>\n",
       "  </thead>\n",
       "  <tbody>\n",
       "    <tr>\n",
       "      <th>2012</th>\n",
       "      <td>64.540476</td>\n",
       "    </tr>\n",
       "    <tr>\n",
       "      <th>2013</th>\n",
       "      <td>58.487654</td>\n",
       "    </tr>\n",
       "    <tr>\n",
       "      <th>2014</th>\n",
       "      <td>52.083333</td>\n",
       "    </tr>\n",
       "    <tr>\n",
       "      <th>2015</th>\n",
       "      <td>37.212963</td>\n",
       "    </tr>\n",
       "    <tr>\n",
       "      <th>2016</th>\n",
       "      <td>35.006173</td>\n",
       "    </tr>\n",
       "    <tr>\n",
       "      <th>2017</th>\n",
       "      <td>27.547840</td>\n",
       "    </tr>\n",
       "    <tr>\n",
       "      <th>2018</th>\n",
       "      <td>45.934524</td>\n",
       "    </tr>\n",
       "    <tr>\n",
       "      <th>2019</th>\n",
       "      <td>61.747024</td>\n",
       "    </tr>\n",
       "    <tr>\n",
       "      <th>2020</th>\n",
       "      <td>58.538462</td>\n",
       "    </tr>\n",
       "    <tr>\n",
       "      <th>2021</th>\n",
       "      <td>38.474399</td>\n",
       "    </tr>\n",
       "    <tr>\n",
       "      <th>2022</th>\n",
       "      <td>43.374691</td>\n",
       "    </tr>\n",
       "    <tr>\n",
       "      <th>2023</th>\n",
       "      <td>43.179630</td>\n",
       "    </tr>\n",
       "    <tr>\n",
       "      <th>2024</th>\n",
       "      <td>33.185185</td>\n",
       "    </tr>\n",
       "  </tbody>\n",
       "</table>\n",
       "</div>"
      ],
      "text/plain": [
       "      inventory\n",
       "year           \n",
       "2012  64.540476\n",
       "2013  58.487654\n",
       "2014  52.083333\n",
       "2015  37.212963\n",
       "2016  35.006173\n",
       "2017  27.547840\n",
       "2018  45.934524\n",
       "2019  61.747024\n",
       "2020  58.538462\n",
       "2021  38.474399\n",
       "2022  43.374691\n",
       "2023  43.179630\n",
       "2024  33.185185"
      ]
     },
     "execution_count": 22,
     "metadata": {},
     "output_type": "execute_result"
    }
   ],
   "source": [
    "average_inventory_by_yearALL = pd.DataFrame(average_inventory_by_yearALL)\n",
    "average_inventory_by_yearALL"
   ]
  },
  {
   "cell_type": "code",
   "execution_count": 24,
   "metadata": {},
   "outputs": [
    {
     "data": {
      "image/png": "[encoded data removed]",
      "text/plain": [
       "<Figure size 900x600 with 1 Axes>"
      ]
     },
     "metadata": {},
     "output_type": "display_data"
    },
    {
     "name": "stdout",
     "output_type": "stream",
     "text": [
      "y = -1.18x +2424.0\n"
     ]
    }
   ],
   "source": [
    "x_values = average_inventory_by_yearALL.index\n",
    "y_values = average_inventory_by_yearALL['inventory']\n",
    "\n",
    "\n",
    "# Get regression values\n",
    "(slope, intercept, rvalue, pvalue, stderr) = st.linregress(x_values, y_values)\n",
    "regress_values = x_values * slope + intercept\n",
    "line_eq = \"y = \" + str(round(slope,2)) + \"x +\" + str(round(intercept,2))\n",
    "\n",
    "\n",
    "# Build scatter plot for year vs inventory\n",
    "plt.figure(figsize=(9,6))\n",
    "plt.scatter(x_values, y_values, c=\"blue\", alpha = .5)\n",
    "\n",
    "\n",
    "# Incorporate the other graph properties2\n",
    "plt.title(\"Average Inventory of Houses For-Sale\")\n",
    "plt.xlabel('Year')\n",
    "plt.ylabel('Average Number of Houses For-Sale')\n",
    "plt.grid(True)\n",
    "# plt.colorbar(label = \"Inventory\")\n",
    "plt.annotate(line_eq, (2019,45),fontsize=15,color=\"red\")\n",
    "plt.xlim(2011, 2025)\n",
    "plt.ylim(35, 65) \n",
    "\n",
    "plt.plot(x_values, regress_values, \"r-\", label=line_eq)\n",
    "  \n",
    "# Show plot\n",
    "plt.show()\n",
    "\n",
    "\n",
    "\n",
    "\n",
    "print(line_eq)"
   ]
  },
  {
   "cell_type": "code",
   "execution_count": 25,
   "metadata": {},
   "outputs": [
    {
     "data": {
      "text/plain": [
       "<Figure size 640x480 with 0 Axes>"
      ]
     },
     "metadata": {},
     "output_type": "display_data"
    }
   ],
   "source": [
    "# Save the figure for ALLYEARS\n",
    "plt.savefig(\"../figures/fig_ALLYEARSyear_by_inventory.png\")"
   ]
  },
  {
   "cell_type": "code",
   "execution_count": null,
   "metadata": {},
   "outputs": [],
   "source": []
  },
  {
   "cell_type": "code",
   "execution_count": null,
   "metadata": {},
   "outputs": [],
   "source": []
  },
  {
   "cell_type": "code",
   "execution_count": null,
   "metadata": {},
   "outputs": [],
   "source": []
  },
  {
   "cell_type": "code",
   "execution_count": null,
   "metadata": {},
   "outputs": [],
   "source": []
  },
  {
   "cell_type": "code",
   "execution_count": null,
   "metadata": {},
   "outputs": [],
   "source": []
  },
  {
   "cell_type": "code",
   "execution_count": null,
   "metadata": {},
   "outputs": [],
   "source": []
  }
 ],
 "metadata": {
  "kernelspec": {
   "display_name": "Python [conda env:dev]",
   "language": "python",
   "name": "conda-env-dev-py"
  },
  "language_info": {
   "codemirror_mode": {
    "name": "ipython",
    "version": 3
   },
   "file_extension": ".py",
   "mimetype": "text/x-python",
   "name": "python",
   "nbconvert_exporter": "python",
   "pygments_lexer": "ipython3",
   "version": "3.10.13"
  }
 },
 "nbformat": 4,
 "nbformat_minor": 2
}
